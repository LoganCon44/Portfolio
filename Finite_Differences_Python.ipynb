{
 "cells": [
  {
   "cell_type": "code",
   "execution_count": 1,
   "id": "3180b2c3-0973-4d56-9912-f659e7d0253d",
   "metadata": {},
   "outputs": [],
   "source": [
    "import numpy as np"
   ]
  },
  {
   "cell_type": "code",
   "execution_count": 2,
   "id": "b933e3c0-0218-4413-b4a7-540f7ab1d3cd",
   "metadata": {},
   "outputs": [],
   "source": [
    "import matplotlib.pyplot as plt"
   ]
  },
  {
   "cell_type": "code",
   "execution_count": 3,
   "id": "6b983ff2-607d-47f0-8b2c-723ae3bca67c",
   "metadata": {},
   "outputs": [],
   "source": [
    "import math"
   ]
  },
  {
   "cell_type": "code",
   "execution_count": 4,
   "id": "9b87e2bd-15ee-4541-95f2-459b712801af",
   "metadata": {},
   "outputs": [],
   "source": [
    "from matplotlib import cm"
   ]
  },
  {
   "cell_type": "code",
   "execution_count": 5,
   "id": "8c9e6a54-ce64-4b07-8915-eb3dcb8eaabd",
   "metadata": {},
   "outputs": [],
   "source": [
    "from mpl_toolkits.mplot3d import Axes3D"
   ]
  },
  {
   "cell_type": "code",
   "execution_count": 6,
   "id": "5f44a941-8003-44ae-a898-9683ac923731",
   "metadata": {},
   "outputs": [],
   "source": [
    "def bs_finite_imp_call_put_demo_1():\n",
    "    print()\n",
    "    print(\"Black-Scholes PDE, Numerical Estimation, Implicit Finite Differences\")\n",
    "    print()\n",
    "    "
   ]
  },
  {
   "cell_type": "code",
   "execution_count": 7,
   "id": "c77be007-0a53-4b3b-b4ea-13483e360e0c",
   "metadata": {},
   "outputs": [],
   "source": [
    "    #Set current stock price S_curr, strike price K, volatility sigma, risk-free rate r, time to expiration T\n",
    "    S_curr = 105.99\n",
    "    K = 105.00\n",
    "    sigma = 0.3128\n",
    "    r = 0.0017\n",
    "    T = 351.0/365.0\n",
    "    divYield = 0.017\n"
   ]
  },
  {
   "cell_type": "code",
   "execution_count": 8,
   "id": "e6ca939d-bc3e-4446-a45e-192bbb73eafd",
   "metadata": {},
   "outputs": [],
   "source": [
    "    #Set number of asset price steps J\n",
    "    J = 100\n"
   ]
  },
  {
   "cell_type": "code",
   "execution_count": 9,
   "id": "b8b75640-3dfd-4a3a-8435-f5f2c52405d6",
   "metadata": {},
   "outputs": [],
   "source": [
    "    #Set number of time steps M and time increment deltaT\n",
    "    M = 10000\n"
   ]
  },
  {
   "cell_type": "code",
   "execution_count": 10,
   "id": "cce0b59c-4f82-4d83-8941-41b4ddec3af2",
   "metadata": {},
   "outputs": [],
   "source": [
    "    #Set size of deltaS and deltaT\n",
    "    S_max = 4*S_curr\n",
    "    deltaS = S_max/J\n",
    "    deltaT = T/M\n"
   ]
  },
  {
   "cell_type": "code",
   "execution_count": 11,
   "id": "f4b08f79-7ca9-48b7-9020-099c429d5445",
   "metadata": {},
   "outputs": [
    {
     "name": "stdout",
     "output_type": "stream",
     "text": [
      "Current Stock Price = 105.99\n",
      "Strike Price K = 105.0\n",
      "Volatility sigma = 0.3128\n",
      "Risk-Free Rate r = 0.0017\n",
      "Time To Expiration T = 0.9616438356164384\n",
      "Dividend Yield divYield = 0.017\n",
      "\n"
     ]
    }
   ],
   "source": [
    "    print(\"Current Stock Price = %s\" %S_curr)\n",
    "    print(\"Strike Price K = %s\" %K)\n",
    "    print(\"Volatility sigma = %s\" %sigma)\n",
    "    print(\"Risk-Free Rate r = %s\" %r)\n",
    "    print(\"Time To Expiration T = %s\" %T)\n",
    "    print(\"Dividend Yield divYield = %s\" %divYield)\n",
    "    print()\n"
   ]
  },
  {
   "cell_type": "code",
   "execution_count": 12,
   "id": "58658a40-0a6d-486e-90d4-f4843c19f68d",
   "metadata": {},
   "outputs": [
    {
     "name": "stdout",
     "output_type": "stream",
     "text": [
      "Asset Price Steps J = 100\n",
      "Time Increment Steps M = 10000\n",
      "Size of Asset Price Steps = 4.239599999999999\n",
      "Size of Time Steps = 9.616438356164384e-05\n",
      "\n"
     ]
    }
   ],
   "source": [
    "    print(\"Asset Price Steps J = %s\" %J)\n",
    "    print(\"Time Increment Steps M = %s\" %M)\n",
    "    print(\"Size of Asset Price Steps = %s\" %deltaS)\n",
    "    print(\"Size of Time Steps = %s\" %deltaT)\n",
    "    print()\n"
   ]
  },
  {
   "cell_type": "code",
   "execution_count": 13,
   "id": "fee78da3-40e7-417e-af57-320787be969b",
   "metadata": {},
   "outputs": [],
   "source": [
    "    #Create (J-1) X (J-1) Matrix A\n",
    "    #Create column vector of asset prices S\n",
    "    #Create column vector of option prices C_hat\n",
    "    B=np.zeros((J-1,J-1),dtype=float)\n",
    "    S=np.zeros((J-1,1),dtype=float)\n",
    "    C_hat_call=np.zeros((J-1,1),dtype=float)\n",
    "    C_hat_put=np.zeros((J-1,1),dtype=float)\n"
   ]
  },
  {
   "cell_type": "code",
   "execution_count": 14,
   "id": "0d27d204-2ca9-4442-8747-2e25d82eeab8",
   "metadata": {},
   "outputs": [],
   "source": [
    "    S[0] = deltaS\n"
   ]
  },
  {
   "cell_type": "code",
   "execution_count": 15,
   "id": "d924f569-deb2-4905-a780-bc122bb207de",
   "metadata": {},
   "outputs": [],
   "source": [
    "    j=1 #row counter\n",
    "    "
   ]
  },
  {
   "cell_type": "code",
   "execution_count": 16,
   "id": "dc8687b8-ed36-48a3-b8d1-ce3e5613e742",
   "metadata": {},
   "outputs": [],
   "source": [
    "    #for j in range(1,J-1):\n",
    "    while j <= J-2:\n",
    "        S[j] = S[j-1] + deltaS\n",
    "        j = j + 1\n"
   ]
  },
  {
   "cell_type": "code",
   "execution_count": 17,
   "id": "ac6c1eb5-331b-44c3-8166-df9405578d20",
   "metadata": {},
   "outputs": [
    {
     "name": "stdout",
     "output_type": "stream",
     "text": [
      "S = [[  4.2396]\n",
      " [  8.4792]\n",
      " [ 12.7188]\n",
      " [ 16.9584]\n",
      " [ 21.198 ]\n",
      " [ 25.4376]\n",
      " [ 29.6772]\n",
      " [ 33.9168]\n",
      " [ 38.1564]\n",
      " [ 42.396 ]\n",
      " [ 46.6356]\n",
      " [ 50.8752]\n",
      " [ 55.1148]\n",
      " [ 59.3544]\n",
      " [ 63.594 ]\n",
      " [ 67.8336]\n",
      " [ 72.0732]\n",
      " [ 76.3128]\n",
      " [ 80.5524]\n",
      " [ 84.792 ]\n",
      " [ 89.0316]\n",
      " [ 93.2712]\n",
      " [ 97.5108]\n",
      " [101.7504]\n",
      " [105.99  ]\n",
      " [110.2296]\n",
      " [114.4692]\n",
      " [118.7088]\n",
      " [122.9484]\n",
      " [127.188 ]\n",
      " [131.4276]\n",
      " [135.6672]\n",
      " [139.9068]\n",
      " [144.1464]\n",
      " [148.386 ]\n",
      " [152.6256]\n",
      " [156.8652]\n",
      " [161.1048]\n",
      " [165.3444]\n",
      " [169.584 ]\n",
      " [173.8236]\n",
      " [178.0632]\n",
      " [182.3028]\n",
      " [186.5424]\n",
      " [190.782 ]\n",
      " [195.0216]\n",
      " [199.2612]\n",
      " [203.5008]\n",
      " [207.7404]\n",
      " [211.98  ]\n",
      " [216.2196]\n",
      " [220.4592]\n",
      " [224.6988]\n",
      " [228.9384]\n",
      " [233.178 ]\n",
      " [237.4176]\n",
      " [241.6572]\n",
      " [245.8968]\n",
      " [250.1364]\n",
      " [254.376 ]\n",
      " [258.6156]\n",
      " [262.8552]\n",
      " [267.0948]\n",
      " [271.3344]\n",
      " [275.574 ]\n",
      " [279.8136]\n",
      " [284.0532]\n",
      " [288.2928]\n",
      " [292.5324]\n",
      " [296.772 ]\n",
      " [301.0116]\n",
      " [305.2512]\n",
      " [309.4908]\n",
      " [313.7304]\n",
      " [317.97  ]\n",
      " [322.2096]\n",
      " [326.4492]\n",
      " [330.6888]\n",
      " [334.9284]\n",
      " [339.168 ]\n",
      " [343.4076]\n",
      " [347.6472]\n",
      " [351.8868]\n",
      " [356.1264]\n",
      " [360.366 ]\n",
      " [364.6056]\n",
      " [368.8452]\n",
      " [373.0848]\n",
      " [377.3244]\n",
      " [381.564 ]\n",
      " [385.8036]\n",
      " [390.0432]\n",
      " [394.2828]\n",
      " [398.5224]\n",
      " [402.762 ]\n",
      " [407.0016]\n",
      " [411.2412]\n",
      " [415.4808]\n",
      " [419.7204]]\n",
      "\n"
     ]
    }
   ],
   "source": [
    "    print(\"S = %s\" %S)\n",
    "    print()\n"
   ]
  },
  {
   "cell_type": "code",
   "execution_count": 18,
   "id": "eca00e06-2ef8-4f10-a9d2-136205209485",
   "metadata": {},
   "outputs": [],
   "source": [
    "    j=0 #row counter\n"
   ]
  },
  {
   "cell_type": "code",
   "execution_count": 19,
   "id": "0f92e61d-53e3-46d5-99c6-4a7e9999a19a",
   "metadata": {},
   "outputs": [],
   "source": [
    "    #for j in range(0,J-1):\n",
    "    while j <= J-2:\n",
    "        C_hat_call[j] = max(S[j]-K,0)\n",
    "        C_hat_put[j] = max(K-S[j],0)\n",
    "        j=j+1\n"
   ]
  },
  {
   "cell_type": "code",
   "execution_count": 20,
   "id": "fd9ad433-c356-48c5-8494-6f947cfcd5b0",
   "metadata": {},
   "outputs": [
    {
     "name": "stdout",
     "output_type": "stream",
     "text": [
      "C_hat_call = [[  0.    ]\n",
      " [  0.    ]\n",
      " [  0.    ]\n",
      " [  0.    ]\n",
      " [  0.    ]\n",
      " [  0.    ]\n",
      " [  0.    ]\n",
      " [  0.    ]\n",
      " [  0.    ]\n",
      " [  0.    ]\n",
      " [  0.    ]\n",
      " [  0.    ]\n",
      " [  0.    ]\n",
      " [  0.    ]\n",
      " [  0.    ]\n",
      " [  0.    ]\n",
      " [  0.    ]\n",
      " [  0.    ]\n",
      " [  0.    ]\n",
      " [  0.    ]\n",
      " [  0.    ]\n",
      " [  0.    ]\n",
      " [  0.    ]\n",
      " [  0.    ]\n",
      " [  0.99  ]\n",
      " [  5.2296]\n",
      " [  9.4692]\n",
      " [ 13.7088]\n",
      " [ 17.9484]\n",
      " [ 22.188 ]\n",
      " [ 26.4276]\n",
      " [ 30.6672]\n",
      " [ 34.9068]\n",
      " [ 39.1464]\n",
      " [ 43.386 ]\n",
      " [ 47.6256]\n",
      " [ 51.8652]\n",
      " [ 56.1048]\n",
      " [ 60.3444]\n",
      " [ 64.584 ]\n",
      " [ 68.8236]\n",
      " [ 73.0632]\n",
      " [ 77.3028]\n",
      " [ 81.5424]\n",
      " [ 85.782 ]\n",
      " [ 90.0216]\n",
      " [ 94.2612]\n",
      " [ 98.5008]\n",
      " [102.7404]\n",
      " [106.98  ]\n",
      " [111.2196]\n",
      " [115.4592]\n",
      " [119.6988]\n",
      " [123.9384]\n",
      " [128.178 ]\n",
      " [132.4176]\n",
      " [136.6572]\n",
      " [140.8968]\n",
      " [145.1364]\n",
      " [149.376 ]\n",
      " [153.6156]\n",
      " [157.8552]\n",
      " [162.0948]\n",
      " [166.3344]\n",
      " [170.574 ]\n",
      " [174.8136]\n",
      " [179.0532]\n",
      " [183.2928]\n",
      " [187.5324]\n",
      " [191.772 ]\n",
      " [196.0116]\n",
      " [200.2512]\n",
      " [204.4908]\n",
      " [208.7304]\n",
      " [212.97  ]\n",
      " [217.2096]\n",
      " [221.4492]\n",
      " [225.6888]\n",
      " [229.9284]\n",
      " [234.168 ]\n",
      " [238.4076]\n",
      " [242.6472]\n",
      " [246.8868]\n",
      " [251.1264]\n",
      " [255.366 ]\n",
      " [259.6056]\n",
      " [263.8452]\n",
      " [268.0848]\n",
      " [272.3244]\n",
      " [276.564 ]\n",
      " [280.8036]\n",
      " [285.0432]\n",
      " [289.2828]\n",
      " [293.5224]\n",
      " [297.762 ]\n",
      " [302.0016]\n",
      " [306.2412]\n",
      " [310.4808]\n",
      " [314.7204]]\n",
      "\n",
      "C_hat_put = [[100.7604]\n",
      " [ 96.5208]\n",
      " [ 92.2812]\n",
      " [ 88.0416]\n",
      " [ 83.802 ]\n",
      " [ 79.5624]\n",
      " [ 75.3228]\n",
      " [ 71.0832]\n",
      " [ 66.8436]\n",
      " [ 62.604 ]\n",
      " [ 58.3644]\n",
      " [ 54.1248]\n",
      " [ 49.8852]\n",
      " [ 45.6456]\n",
      " [ 41.406 ]\n",
      " [ 37.1664]\n",
      " [ 32.9268]\n",
      " [ 28.6872]\n",
      " [ 24.4476]\n",
      " [ 20.208 ]\n",
      " [ 15.9684]\n",
      " [ 11.7288]\n",
      " [  7.4892]\n",
      " [  3.2496]\n",
      " [  0.    ]\n",
      " [  0.    ]\n",
      " [  0.    ]\n",
      " [  0.    ]\n",
      " [  0.    ]\n",
      " [  0.    ]\n",
      " [  0.    ]\n",
      " [  0.    ]\n",
      " [  0.    ]\n",
      " [  0.    ]\n",
      " [  0.    ]\n",
      " [  0.    ]\n",
      " [  0.    ]\n",
      " [  0.    ]\n",
      " [  0.    ]\n",
      " [  0.    ]\n",
      " [  0.    ]\n",
      " [  0.    ]\n",
      " [  0.    ]\n",
      " [  0.    ]\n",
      " [  0.    ]\n",
      " [  0.    ]\n",
      " [  0.    ]\n",
      " [  0.    ]\n",
      " [  0.    ]\n",
      " [  0.    ]\n",
      " [  0.    ]\n",
      " [  0.    ]\n",
      " [  0.    ]\n",
      " [  0.    ]\n",
      " [  0.    ]\n",
      " [  0.    ]\n",
      " [  0.    ]\n",
      " [  0.    ]\n",
      " [  0.    ]\n",
      " [  0.    ]\n",
      " [  0.    ]\n",
      " [  0.    ]\n",
      " [  0.    ]\n",
      " [  0.    ]\n",
      " [  0.    ]\n",
      " [  0.    ]\n",
      " [  0.    ]\n",
      " [  0.    ]\n",
      " [  0.    ]\n",
      " [  0.    ]\n",
      " [  0.    ]\n",
      " [  0.    ]\n",
      " [  0.    ]\n",
      " [  0.    ]\n",
      " [  0.    ]\n",
      " [  0.    ]\n",
      " [  0.    ]\n",
      " [  0.    ]\n",
      " [  0.    ]\n",
      " [  0.    ]\n",
      " [  0.    ]\n",
      " [  0.    ]\n",
      " [  0.    ]\n",
      " [  0.    ]\n",
      " [  0.    ]\n",
      " [  0.    ]\n",
      " [  0.    ]\n",
      " [  0.    ]\n",
      " [  0.    ]\n",
      " [  0.    ]\n",
      " [  0.    ]\n",
      " [  0.    ]\n",
      " [  0.    ]\n",
      " [  0.    ]\n",
      " [  0.    ]\n",
      " [  0.    ]\n",
      " [  0.    ]\n",
      " [  0.    ]\n",
      " [  0.    ]]\n",
      "\n"
     ]
    }
   ],
   "source": [
    "    print(\"C_hat_call = %s\" %C_hat_call)\n",
    "    print()\n",
    "    print(\"C_hat_put = %s\" %C_hat_put)\n",
    "    print()\n",
    "    \n"
   ]
  },
  {
   "cell_type": "code",
   "execution_count": 21,
   "id": "e27ccecc-3fb8-47c0-9eef-0cc796b1d455",
   "metadata": {},
   "outputs": [],
   "source": [
    "    for j in range (0,J-1):\n",
    "        for k in range (0,J-1):\n",
    "            if k == j:\n",
    "                B[j,j] = 1 + (sigma**2)*((j+1)**2)*deltaT + r*deltaT\n",
    "            elif k == j-1:\n",
    "                B[j,k] = -0.5 * ((sigma**2)*((j+1)**2)*deltaT - (r - divYield)*(j+1)*deltaT)\n",
    "            elif k == j+1:\n",
    "                B[j,k] = -0.5 * ((sigma**2)*((j+1)**2)*deltaT + (r - divYield)*(j+1)*deltaT)\n"
   ]
  },
  {
   "cell_type": "code",
   "execution_count": 22,
   "id": "a11d92a8-22d3-44cc-9e95-b57fbf18082a",
   "metadata": {},
   "outputs": [],
   "source": [
    "    B_inverse = np.linalg.matrix_power(B,-1)\n"
   ]
  },
  {
   "cell_type": "code",
   "execution_count": 23,
   "id": "f74ecc7e-653b-4025-b28b-7e40f0cd7cbd",
   "metadata": {},
   "outputs": [
    {
     "name": "stdout",
     "output_type": "stream",
     "text": [
      "B inverse = [[9.99990428e-001 3.96870074e-006 6.88386956e-011 ... 9.57005499e-214\n",
      "  3.88564760e-215 1.60483424e-216]\n",
      " [2.02885391e-005 9.99962202e-001 1.73447428e-005 ... 2.41129122e-208\n",
      "  9.79035959e-210 4.04357417e-211]\n",
      " [9.03734914e-010 4.45424262e-005 9.99915166e-001 ... 1.39009652e-203\n",
      "  5.64409005e-205 2.33109893e-206]\n",
      " ...\n",
      " [3.91250520e-209 1.92835832e-204 4.32889471e-200 ... 9.21723473e-001\n",
      "  3.74239501e-002 1.54566864e-003]\n",
      " [1.62669335e-210 8.01749135e-206 1.79981466e-201 ... 3.83222863e-002\n",
      "  9.20287127e-001 3.80093215e-002]\n",
      " [6.87811856e-212 3.39002161e-207 7.61012433e-203 ... 1.62037441e-003\n",
      "  3.89123369e-002 9.17174709e-001]]\n"
     ]
    }
   ],
   "source": [
    "    print(\"B inverse = %s\" %B_inverse)\n"
   ]
  },
  {
   "cell_type": "code",
   "execution_count": 24,
   "id": "f59e7096-9c91-4b90-97cb-5cbebac8845c",
   "metadata": {},
   "outputs": [],
   "source": [
    "    C_call_0 = 0\n",
    "    C_put_J = 0\n",
    "    C_start_call = C_hat_call\n",
    "    C_start_put = C_hat_put\n"
   ]
  },
  {
   "cell_type": "code",
   "execution_count": 25,
   "id": "e87176f9-9c70-4580-9d59-29cfe2e0fbd0",
   "metadata": {},
   "outputs": [],
   "source": [
    "    m=1 #time increment counter\n"
   ]
  },
  {
   "cell_type": "code",
   "execution_count": 26,
   "id": "a7853ea7-936e-4977-aafb-76dec6bb584e",
   "metadata": {},
   "outputs": [],
   "source": [
    "    while m <= M: #Call time stepping\n",
    "        #Boundary values calculated separately\n",
    "        #Must incorporate lowest and highest option prices, which are not in matrix\n",
    "        C_min = 0.5*((sigma**2)*((1)**2)*deltaT - (r - divYield)*(1)*deltaT)*(K*math.exp(-r*m*deltaT)) + B_inverse[0,0]*C_hat_put[0] + B_inverse[0,1]*C_hat_put[1]\n",
    "        C_max = B_inverse[J-2,J-3]*C_hat_put[J-3] + B_inverse[J-2,J-2]*C_hat_put[J-2] + 0.5*((sigma**2)*((J-1)**2)*deltaT + (r - divYield)*(J-1)*deltaT)*C_put_J\n",
    "        #Perform matrix multiplication Ac_m = c_m+1\n",
    "        C_hat_put = B_inverse.dot(C_hat_put)\n",
    "        #Update boundary values\n",
    "        C_hat_put[0] = C_min\n",
    "        C_hat_put[J-2] = C_max\n",
    "        #Capture option prices during backward walk for graphing\n",
    "        if m == M/4:\n",
    "            C1 = C_hat_put\n",
    "        elif m == M/2:\n",
    "            C2 = C_hat_put\n",
    "        elif m == 3*M/4:\n",
    "            C3 = C_hat_put\n",
    "        elif m == M:\n",
    "            C4 = C_hat_put\n",
    "            \n",
    "            \n",
    "        m=m+1\n"
   ]
  },
  {
   "cell_type": "code",
   "execution_count": 27,
   "id": "34254f7a-6173-499c-8e2f-bc0a2bb24ab0",
   "metadata": {},
   "outputs": [
    {
     "name": "stdout",
     "output_type": "stream",
     "text": [
      "Put Price = [13.01765792]\n"
     ]
    },
    {
     "data": {
      "text/plain": [
       "[<matplotlib.lines.Line2D at 0x22192aa49a0>,\n",
       " <matplotlib.lines.Line2D at 0x22192aa4a30>,\n",
       " <matplotlib.lines.Line2D at 0x22192aa4b50>,\n",
       " <matplotlib.lines.Line2D at 0x22192aa4b20>,\n",
       " <matplotlib.lines.Line2D at 0x22192aa4850>]"
      ]
     },
     "execution_count": 27,
     "metadata": {},
     "output_type": "execute_result"
    },
    {
     "data": {
      "image/png": "[encoded data removed]",
      "text/plain": [
       "<Figure size 432x288 with 1 Axes>"
      ]
     },
     "metadata": {
      "needs_background": "light"
     },
     "output_type": "display_data"
    }
   ],
   "source": [
    "    #print(\"C_hat_call = %s\" %C_hat_call)\n",
    "    #print()\n",
    "    #print(\"C_hat_put = %s\" %C_hat_put)\n",
    "    #print()\n",
    "    \n",
    "    print(\"Put Price = %s\" %C_hat_put[24])\n",
    "    \n",
    "    plt.plot(S,C_start_put,'b--',S,C1,'r--',S,C2,'g--',S,C3,'r--',S,C4,'b--')\n",
    "    "
   ]
  }
 ],
 "metadata": {
  "kernelspec": {
   "display_name": "Python 3 (ipykernel)",
   "language": "python",
   "name": "python3"
  },
  "language_info": {
   "codemirror_mode": {
    "name": "ipython",
    "version": 3
   },
   "file_extension": ".py",
   "mimetype": "text/x-python",
   "name": "python",
   "nbconvert_exporter": "python",
   "pygments_lexer": "ipython3",
   "version": "3.9.7"
  }
 },
 "nbformat": 4,
 "nbformat_minor": 5
}
